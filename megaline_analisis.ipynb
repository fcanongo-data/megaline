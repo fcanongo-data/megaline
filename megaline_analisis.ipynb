{
 "cells": [
  {
   "cell_type": "markdown",
   "id": "d0a72c4a",
   "metadata": {},
   "source": [
    "# Clasificación de Planes de Clientes – Megaline  \n",
    "\n",
    "## Introducción  \n",
    "\n",
    "La compañía de telecomunicaciones **Megaline** busca reducir el uso de planes heredados y migrar a sus clientes hacia planes más rentables: **Smart** y **Ultra**.  \n",
    "Para lograrlo, se plantea el desarrollo de un **modelo de clasificación supervisado** capaz de predecir qué plan se ajusta mejor al comportamiento de cada usuario.  \n",
    "\n",
    "El dataset contiene información sobre llamadas, mensajes y consumo de internet de clientes que ya han migrado a los nuevos planes.  \n",
    "El objetivo es entrenar, comparar y seleccionar el modelo con mayor exactitud posible, que posteriormente pueda recomendar el plan adecuado para nuevos clientes. "
   ]
  },
  {
   "cell_type": "markdown",
   "id": "18f98638",
   "metadata": {},
   "source": [
    "# Librerias"
   ]
  },
  {
   "cell_type": "code",
   "execution_count": 25,
   "id": "ae68cbbc",
   "metadata": {},
   "outputs": [],
   "source": [
    "import pandas as pd\n",
    "from sklearn.model_selection import train_test_split, GridSearchCV\n",
    "from sklearn.tree import DecisionTreeClassifier\n",
    "from sklearn.ensemble import RandomForestClassifier\n",
    "from sklearn.linear_model import LogisticRegression\n",
    "from sklearn.metrics import accuracy_score"
   ]
  },
  {
   "cell_type": "markdown",
   "id": "58c82c76",
   "metadata": {},
   "source": [
    "# 1. Carga de los datos"
   ]
  },
  {
   "cell_type": "code",
   "execution_count": 26,
   "id": "ded2bbc7",
   "metadata": {},
   "outputs": [
    {
     "data": {
      "text/html": [
       "<div>\n",
       "<style scoped>\n",
       "    .dataframe tbody tr th:only-of-type {\n",
       "        vertical-align: middle;\n",
       "    }\n",
       "\n",
       "    .dataframe tbody tr th {\n",
       "        vertical-align: top;\n",
       "    }\n",
       "\n",
       "    .dataframe thead th {\n",
       "        text-align: right;\n",
       "    }\n",
       "</style>\n",
       "<table border=\"1\" class=\"dataframe\">\n",
       "  <thead>\n",
       "    <tr style=\"text-align: right;\">\n",
       "      <th></th>\n",
       "      <th>calls</th>\n",
       "      <th>minutes</th>\n",
       "      <th>messages</th>\n",
       "      <th>mb_used</th>\n",
       "      <th>is_ultra</th>\n",
       "    </tr>\n",
       "  </thead>\n",
       "  <tbody>\n",
       "    <tr>\n",
       "      <th>0</th>\n",
       "      <td>40.0</td>\n",
       "      <td>311.90</td>\n",
       "      <td>83.0</td>\n",
       "      <td>19915.42</td>\n",
       "      <td>0</td>\n",
       "    </tr>\n",
       "    <tr>\n",
       "      <th>1</th>\n",
       "      <td>85.0</td>\n",
       "      <td>516.75</td>\n",
       "      <td>56.0</td>\n",
       "      <td>22696.96</td>\n",
       "      <td>0</td>\n",
       "    </tr>\n",
       "    <tr>\n",
       "      <th>2</th>\n",
       "      <td>77.0</td>\n",
       "      <td>467.66</td>\n",
       "      <td>86.0</td>\n",
       "      <td>21060.45</td>\n",
       "      <td>0</td>\n",
       "    </tr>\n",
       "    <tr>\n",
       "      <th>3</th>\n",
       "      <td>106.0</td>\n",
       "      <td>745.53</td>\n",
       "      <td>81.0</td>\n",
       "      <td>8437.39</td>\n",
       "      <td>1</td>\n",
       "    </tr>\n",
       "    <tr>\n",
       "      <th>4</th>\n",
       "      <td>66.0</td>\n",
       "      <td>418.74</td>\n",
       "      <td>1.0</td>\n",
       "      <td>14502.75</td>\n",
       "      <td>0</td>\n",
       "    </tr>\n",
       "  </tbody>\n",
       "</table>\n",
       "</div>"
      ],
      "text/plain": [
       "   calls  minutes  messages   mb_used  is_ultra\n",
       "0   40.0   311.90      83.0  19915.42         0\n",
       "1   85.0   516.75      56.0  22696.96         0\n",
       "2   77.0   467.66      86.0  21060.45         0\n",
       "3  106.0   745.53      81.0   8437.39         1\n",
       "4   66.0   418.74       1.0  14502.75         0"
      ]
     },
     "execution_count": 26,
     "metadata": {},
     "output_type": "execute_result"
    }
   ],
   "source": [
    "# cargamos los datos desde .csv\n",
    "df= pd.read_csv('users_behavior.csv')\n",
    "\n",
    "# muestra los 5 primeros registros del dataset\n",
    "df.head()"
   ]
  },
  {
   "cell_type": "markdown",
   "id": "9588feaf",
   "metadata": {},
   "source": [
    "# 2. Exploración inicial del dataset"
   ]
  },
  {
   "cell_type": "code",
   "execution_count": 27,
   "id": "02c9a4fc",
   "metadata": {},
   "outputs": [
    {
     "name": "stdout",
     "output_type": "stream",
     "text": [
      "<class 'pandas.core.frame.DataFrame'>\n",
      "RangeIndex: 3214 entries, 0 to 3213\n",
      "Data columns (total 5 columns):\n",
      " #   Column    Non-Null Count  Dtype  \n",
      "---  ------    --------------  -----  \n",
      " 0   calls     3214 non-null   float64\n",
      " 1   minutes   3214 non-null   float64\n",
      " 2   messages  3214 non-null   float64\n",
      " 3   mb_used   3214 non-null   float64\n",
      " 4   is_ultra  3214 non-null   int64  \n",
      "dtypes: float64(4), int64(1)\n",
      "memory usage: 125.7 KB\n"
     ]
    }
   ],
   "source": [
    "# muestra la informacion general del dataset\n",
    "df.info()"
   ]
  },
  {
   "cell_type": "markdown",
   "id": "d86e6ba3",
   "metadata": {},
   "source": [
    "El dataset contiene 3,214 registros y 5 columnas. Todas las variables tienen un tipo de dato adecuado: cuatro numéricas de tipo float64 y una categórica binaria de tipo int64."
   ]
  },
  {
   "cell_type": "code",
   "execution_count": 28,
   "id": "b3b8560a",
   "metadata": {},
   "outputs": [
    {
     "data": {
      "text/plain": [
       "calls       0\n",
       "minutes     0\n",
       "messages    0\n",
       "mb_used     0\n",
       "is_ultra    0\n",
       "dtype: int64"
      ]
     },
     "execution_count": 28,
     "metadata": {},
     "output_type": "execute_result"
    }
   ],
   "source": [
    "# comprueba si hay datos faltantes\n",
    "df.isna().sum()"
   ]
  },
  {
   "cell_type": "markdown",
   "id": "053bb888",
   "metadata": {},
   "source": [
    "El dataframe no cuenta con valores nulos."
   ]
  },
  {
   "cell_type": "code",
   "execution_count": 29,
   "id": "50297fb4",
   "metadata": {},
   "outputs": [
    {
     "data": {
      "text/plain": [
       "0"
      ]
     },
     "execution_count": 29,
     "metadata": {},
     "output_type": "execute_result"
    }
   ],
   "source": [
    "# comprueba si existen datos duplicados\n",
    "df.duplicated().sum()"
   ]
  },
  {
   "cell_type": "markdown",
   "id": "98627d79",
   "metadata": {},
   "source": [
    "El dataframe no cuenta con valores duplicados"
   ]
  },
  {
   "cell_type": "markdown",
   "id": "6c70504c",
   "metadata": {},
   "source": [
    "# 3. Segmentacion de los datos en conjuntos de entrenamiento y validacion\n",
    "Se utilizara la función train_test_split de la librería scikit-learn para dividir el dataset en dos conjuntos: 70% para entrenamiento y 30% para validación."
   ]
  },
  {
   "cell_type": "code",
   "execution_count": 30,
   "id": "a22ce3bc",
   "metadata": {},
   "outputs": [
    {
     "name": "stdout",
     "output_type": "stream",
     "text": [
      "El dataset para entrenar el modelo cuenta con 2249 filas y 4 columnas.\n",
      "El dataset para probar el modelo cuenta con 965 filas y 4 columnas.\n"
     ]
    }
   ],
   "source": [
    "# segmentacion de los datos en conjunto de entrenamiento y validacion\n",
    "f_train, f_valid= train_test_split(df, test_size= 0.3, random_state= 42)\n",
    "\n",
    "# preparacion de los datos de entrenamiento\n",
    "X_train= f_train.drop(['is_ultra'], axis= 1) # variables independientes\n",
    "y_train= f_train['is_ultra'] # variable dependiente\n",
    "\n",
    "# preparacion de los datos para validacion\n",
    "X_valid= f_valid.drop(['is_ultra'], axis= 1) # variables independientes\n",
    "y_valid= f_valid['is_ultra'] # variable dependiente\n",
    "\n",
    "# muestra el tamaño de los datasets de entrenamiento y prueba\n",
    "print(f\"El dataset para entrenar el modelo cuenta con {X_train.shape[0]} filas y {X_train.shape[1]} columnas.\")\n",
    "print(f\"El dataset para probar el modelo cuenta con {X_valid.shape[0]} filas y {X_valid.shape[1]} columnas.\")"
   ]
  },
  {
   "cell_type": "markdown",
   "id": "696af40d",
   "metadata": {},
   "source": [
    "# 4. Prueba de Modelos\n",
    "Se probarán distintos modelos de clasificación con el fin de identificar el más adecuado para este proyecto. Se utilizará la validación cruzada mediante GridSearchCV para encontrar la mejor combinación de parámetros."
   ]
  },
  {
   "cell_type": "markdown",
   "id": "0fb066d9",
   "metadata": {},
   "source": [
    "### Modelo DecisionTreeClassifier"
   ]
  },
  {
   "cell_type": "markdown",
   "id": "15751e29",
   "metadata": {},
   "source": [
    "Entrenaminto y seleccion de parametros."
   ]
  },
  {
   "cell_type": "code",
   "execution_count": 31,
   "id": "4c6bc696",
   "metadata": {},
   "outputs": [
    {
     "name": "stdout",
     "output_type": "stream",
     "text": [
      "Mejores parametros {'criterion': 'entropy', 'max_depth': 3, 'min_samples_split': 2}\n",
      "Mejor resultado obtenido 0.7936807720861172\n"
     ]
    }
   ],
   "source": [
    "# inicia el modelo\n",
    "model= DecisionTreeClassifier(random_state= 42)\n",
    "\n",
    "# parametros para GridSearchCV\n",
    "param_grid= {\n",
    "    'max_depth': [3, 5, 10, 15, None],\n",
    "    'min_samples_split': [2, 5, 10, 15],\n",
    "    'criterion': ['gini', 'entropy']\n",
    "}\n",
    "\n",
    "# configuracion de GridSearchCV\n",
    "grid_search= GridSearchCV(estimator= model, param_grid= param_grid, cv= 5, n_jobs= -1, scoring= 'accuracy')\n",
    "\n",
    "# entrenar el modelo\n",
    "grid_search.fit(X_train, y_train)\n",
    "\n",
    "# mostrar los mejores parametros obtenidos para el modelo DecisionTreeClassifier\n",
    "print(\"Mejores parametros\", grid_search.best_params_)\n",
    "print(\"Mejor resultado obtenido\", grid_search.best_score_)"
   ]
  },
  {
   "cell_type": "markdown",
   "id": "7df6c5cc",
   "metadata": {},
   "source": [
    "El modelo DecisionTree optimizado alcanza una exactitud promedio del 79% con los datos de entrenamiento, utilizando criterion='entropy' y max_depth=3. Esto indica un buen balance entre simplicidad y rendimiento."
   ]
  },
  {
   "cell_type": "markdown",
   "id": "8f6988c1",
   "metadata": {},
   "source": [
    "Evaluacion del modelo en el conjunto de prueba utilizando los parametros optimos."
   ]
  },
  {
   "cell_type": "code",
   "execution_count": 32,
   "id": "6be81e47",
   "metadata": {},
   "outputs": [
    {
     "name": "stdout",
     "output_type": "stream",
     "text": [
      "La precision del modelo DecisionTreeClassifier es: 79.27%\n"
     ]
    }
   ],
   "source": [
    "# inicial el modelo DecisionTreeClassifier con los parametros obtenidos\n",
    "model= DecisionTreeClassifier(**grid_search.best_params_, random_state= 42)\n",
    "\n",
    "# entrena el modelo\n",
    "model.fit(X_train, y_train)\n",
    "\n",
    "# realiza predicciones con los datos de prueba\n",
    "predict= model.predict(X_valid)\n",
    "\n",
    "# evalua el modelo\n",
    "accuracy= accuracy_score(y_valid, predict)\n",
    "print(f\"La precision del modelo DecisionTreeClassifier es: {accuracy:.2%}\")"
   ]
  },
  {
   "cell_type": "markdown",
   "id": "29d367c4",
   "metadata": {},
   "source": [
    "El modelo presenta un rendimiento consistente en los conjuntos de entrenamiento y prueba, lo que indica que no existe sobreajuste significativo."
   ]
  },
  {
   "cell_type": "markdown",
   "id": "291ae6f3",
   "metadata": {},
   "source": [
    "### Modelo RandomForestClassifier"
   ]
  },
  {
   "cell_type": "markdown",
   "id": "4a4b851d",
   "metadata": {},
   "source": [
    "Entrenaminto y seleccion de parametros."
   ]
  },
  {
   "cell_type": "code",
   "execution_count": 33,
   "id": "0266004a",
   "metadata": {},
   "outputs": [
    {
     "name": "stdout",
     "output_type": "stream",
     "text": [
      "Mejores parametros {'criterion': 'gini', 'max_depth': 10, 'min_samples_split': 10, 'n_estimators': 150}\n",
      "Mejor resultado obtenido 0.8123494184607771\n"
     ]
    }
   ],
   "source": [
    "# inicia el modelo\n",
    "model= RandomForestClassifier(random_state= 42)\n",
    "\n",
    "# parametros para GridSearchCV\n",
    "param_grid= {\n",
    "    'n_estimators': [25, 50, 100, 150, 200],\n",
    "    'max_depth': [3, 5, 10, 15, None],\n",
    "    'min_samples_split': [2, 5, 10, 15],\n",
    "    'criterion': ['gini', 'entropy']\n",
    "}\n",
    "\n",
    "# configuracion de GridSearchCV\n",
    "grid_search= GridSearchCV(estimator= model, param_grid= param_grid, cv= 5, n_jobs= -1, scoring= 'accuracy')\n",
    "\n",
    "# entrenar el modelo\n",
    "grid_search.fit(X_train, y_train)\n",
    "\n",
    "# mostrar los mejores parametros obtenidos para el modelo RandomForestClassifier\n",
    "print(\"Mejores parametros\", grid_search.best_params_)\n",
    "print(\"Mejor resultado obtenido\", grid_search.best_score_)\n",
    "\n"
   ]
  },
  {
   "cell_type": "markdown",
   "id": "9539d0dc",
   "metadata": {},
   "source": [
    "El modelo alcanza una exactitud del 81%, lo que significa que clasifica correctamente 8 de cada 10 clientes en promedio, mostrando un desempeño sólido y generalizable para la tarea."
   ]
  },
  {
   "cell_type": "markdown",
   "id": "2e24621c",
   "metadata": {},
   "source": [
    "Evaluacion del modelo en el conjunto de prueba utilizando los parametros optimos."
   ]
  },
  {
   "cell_type": "code",
   "execution_count": 34,
   "id": "752be768",
   "metadata": {},
   "outputs": [
    {
     "name": "stdout",
     "output_type": "stream",
     "text": [
      "La precision del modelo RandomForestClassifier es: 80.73%\n"
     ]
    }
   ],
   "source": [
    "# inicia el modelo RandomForestClassifier con los parametros obtenidos\n",
    "model= RandomForestClassifier(**grid_search.best_params_, random_state= 42)\n",
    "\n",
    "# entrena el modelo\n",
    "model.fit(X_train, y_train)\n",
    "\n",
    "# realiza predicciones con los datos de prueba\n",
    "predict= model.predict(X_valid)\n",
    "\n",
    "# evalua el modelo\n",
    "accuracy= accuracy_score(y_valid, predict)\n",
    "print(f\"La precision del modelo RandomForestClassifier es: {accuracy:.2%}\")"
   ]
  },
  {
   "cell_type": "markdown",
   "id": "66b9517b",
   "metadata": {},
   "source": [
    "El modelo muestra un rendimiento similar en los conjuntos de entrenamiento y prueba, lo que indica una buena capacidad de generalización y ausencia de sobreajuste significativo."
   ]
  },
  {
   "cell_type": "markdown",
   "id": "da23446b",
   "metadata": {},
   "source": [
    "### Modelo LogisticRegression"
   ]
  },
  {
   "cell_type": "markdown",
   "id": "8b92f4ca",
   "metadata": {},
   "source": [
    "Entrenaminto y seleccion de parametros."
   ]
  },
  {
   "cell_type": "code",
   "execution_count": 35,
   "id": "55a3b7b8",
   "metadata": {},
   "outputs": [
    {
     "name": "stdout",
     "output_type": "stream",
     "text": [
      "Mejores parametros {'C': 1, 'penalty': 'l1', 'solver': 'liblinear'}\n",
      "Mejor resultado obtenido 0.7461123484286067\n"
     ]
    }
   ],
   "source": [
    "# inicia el modelo\n",
    "model= LogisticRegression(random_state= 42)\n",
    "\n",
    "# parametros para GridSearchCV\n",
    "param_grid_lr = {\n",
    "    'C': [0.01, 0.1, 1, 10],\n",
    "    'penalty': ['l1', 'l2'],\n",
    "    'solver': ['liblinear']\n",
    "}\n",
    "\n",
    "# configuracion de GridSearchCV\n",
    "grid_search= GridSearchCV(estimator= model, param_grid= param_grid_lr, cv= 5, n_jobs= -1, scoring= 'accuracy')\n",
    "\n",
    "# entrena el modelo\n",
    "grid_search.fit(X_train, y_train)\n",
    "\n",
    "# mostrar los mejores parametros obtenidos para el modelo LogisticRegression\n",
    "print(\"Mejores parametros\", grid_search.best_params_)\n",
    "print(\"Mejor resultado obtenido\", grid_search.best_score_)"
   ]
  },
  {
   "cell_type": "markdown",
   "id": "7c90a023",
   "metadata": {},
   "source": [
    "El modelo de regresión logística optimizado con C=1, penalty='l1' y solver='liblinear' alcanzó una exactitud promedio del 74.6% en validación cruzada. Esto refleja un desempeño competitivo, mostrando que la regularización L1 contribuye a simplificar el modelo y mejorar su capacidad de generalización."
   ]
  },
  {
   "cell_type": "markdown",
   "id": "e0b30a4e",
   "metadata": {},
   "source": [
    "Evaluacion del modelo en el conjunto de prueba utilizando los parametros optimos."
   ]
  },
  {
   "cell_type": "code",
   "execution_count": 36,
   "id": "937ec4d7",
   "metadata": {},
   "outputs": [
    {
     "name": "stdout",
     "output_type": "stream",
     "text": [
      "La precision del modelo LogisticRegression es: 74.40%\n"
     ]
    }
   ],
   "source": [
    "# inicia el modelo LogisticRegression con los parametros obtenidos\n",
    "model= LogisticRegression(**grid_search.best_params_, random_state= 42)\n",
    "\n",
    "# entrena el modelo\n",
    "model.fit(X_train, y_train)\n",
    "\n",
    "# realiza predicciones con los datos de prueba\n",
    "predict= model.predict(X_valid)\n",
    "\n",
    "# evalua el modelo\n",
    "accuracy= accuracy_score(y_valid, predict)\n",
    "print(f\"La precision del modelo LogisticRegression es: {accuracy:.2%}\")"
   ]
  },
  {
   "cell_type": "markdown",
   "id": "9f33c983",
   "metadata": {},
   "source": [
    "El modelo de regresión logística optimizado logra un rendimiento estable y consistente entre validación y prueba (~74%). Esto muestra que es una opción sólida para clasificar clientes en planes de Megaline, ofreciendo un equilibrio entre simplicidad, interpretabilidad y capacidad predictiva.\""
   ]
  },
  {
   "cell_type": "markdown",
   "id": "83d1dbf3",
   "metadata": {},
   "source": [
    "# Conclusion\n",
    "Se evaluaron tres modelos de clasificación (Logistic Regression, DecisionTreeClassifier y RandomForestClassifier). Tras el ajuste de hiperparámetros con GridSearchCV, el RandomForestClassifier con criterion='gini', max_depth=10, min_samples_split=10 y n_estimators=150 mostró el mejor desempeño, alcanzando un 81.2% de exactitud en validación y 80.7% en los datos de prueba. Por lo tanto, este modelo se considera la mejor opción para la tarea de clasificación."
   ]
  }
 ],
 "metadata": {
  "kernelspec": {
   "display_name": "base",
   "language": "python",
   "name": "python3"
  },
  "language_info": {
   "codemirror_mode": {
    "name": "ipython",
    "version": 3
   },
   "file_extension": ".py",
   "mimetype": "text/x-python",
   "name": "python",
   "nbconvert_exporter": "python",
   "pygments_lexer": "ipython3",
   "version": "3.12.2"
  }
 },
 "nbformat": 4,
 "nbformat_minor": 5
}
